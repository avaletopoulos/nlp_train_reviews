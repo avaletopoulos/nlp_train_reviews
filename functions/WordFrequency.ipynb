{
 "cells": [
  {
   "cell_type": "code",
   "execution_count": null,
   "id": "c2c0b6a3",
   "metadata": {},
   "outputs": [],
   "source": []
  },
  {
   "cell_type": "code",
   "execution_count": null,
   "id": "7860c564",
   "metadata": {},
   "outputs": [],
   "source": [
    "def words_frequency(texts: list, terms = 10):\n",
    "    words = nltk.tokenize.word_tokenize(' '.join([text for text in texts]))\n",
    "    fdist = FreqDist(words)\n",
    "    words_df = pd.DataFrame({'word':list(fdist.keys()), 'count':list(fdist.values())})\n",
    "\n",
    "    #Return the first terms rows ordered by columns in descending order\n",
    "    d = words_df.nlargest(terms, \"count\") \n",
    "    plt.figure(figsize=(20,10))\n",
    "    ax = sns.barplot(data=d, x= \"word\", y = \"count\")\n",
    "    ax.set(ylabel = 'Count')\n",
    "    ax.set(xlabel = 'Words')\n",
    "    plt.show()"
   ]
  }
 ],
 "metadata": {
  "kernelspec": {
   "display_name": "Python 3",
   "language": "python",
   "name": "python3"
  },
  "language_info": {
   "codemirror_mode": {
    "name": "ipython",
    "version": 3
   },
   "file_extension": ".py",
   "mimetype": "text/x-python",
   "name": "python",
   "nbconvert_exporter": "python",
   "pygments_lexer": "ipython3",
   "version": "3.9.2"
  }
 },
 "nbformat": 4,
 "nbformat_minor": 5
}
